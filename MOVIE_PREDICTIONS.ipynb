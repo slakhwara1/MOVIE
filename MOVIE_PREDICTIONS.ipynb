{
 "cells": [
  {
   "cell_type": "code",
   "execution_count": 2,
   "metadata": {},
   "outputs": [
    {
     "name": "stdout",
     "output_type": "stream",
     "text": [
      "RATINGS GIVEN BY DIFFERENT USERS FOR A MOVIE \n",
      "\n",
      " [[0 0 3 0 1 5 4 5 0 0]\n",
      " [0 0 3 0 0 0 0 0 0 0]\n",
      " [0 0 0 0 0 0 0 0 0 4]\n",
      " [0 5 5 0 0 5 0 3 4 0]\n",
      " [0 0 1 0 0 0 0 0 0 0]\n",
      " [0 0 0 0 0 0 0 5 0 0]\n",
      " [0 0 2 5 1 5 4 0 0 0]\n",
      " [4 0 4 0 0 5 0 5 5 0]\n",
      " [5 0 3 4 4 5 3 5 0 0]\n",
      " [0 0 0 0 0 0 0 0 0 4]\n",
      " [2 0 1 0 0 5 0 0 0 0]\n",
      " [2 0 5 5 0 5 0 5 0 0]\n",
      " [0 0 5 4 1 0 3 5 0 0]\n",
      " [0 0 4 3 4 0 0 5 0 0]\n",
      " [5 5 0 4 4 5 0 4 0 0]\n",
      " [0 0 0 0 0 0 0 0 0 4]\n",
      " [0 0 1 0 0 0 0 0 0 0]\n",
      " [0 0 0 3 1 0 0 0 0 0]\n",
      " [0 0 0 5 0 0 0 3 0 0]\n",
      " [0 0 0 0 3 0 0 0 0 0]]\n"
     ]
    },
    {
     "data": {
      "image/png": "[encoded data removed]",
      "text/plain": [
       "<Figure size 432x288 with 1 Axes>"
      ]
     },
     "metadata": {},
     "output_type": "display_data"
    }
   ],
   "source": [
    "from numpy import *\n",
    "from scipy import *\n",
    "from pandas import *\n",
    "import matplotlib.pyplot as plt\n",
    "num_movies = 20\n",
    "num_users = 10\n",
    "ratings=[]\n",
    "with open('Actual_ratings.txt')as inputfile:\n",
    "    for line in inputfile:\n",
    "        li = [int(x) for x in line.strip().split('   ')]\n",
    "        ratings.append(li)\n",
    "ratings = array(ratings)\n",
    "\n",
    "print('RATINGS GIVEN BY DIFFERENT USERS FOR A MOVIE \\n\\n',ratings)\n",
    "plt.imshow(ratings,aspect='auto',interpolation = None,origin='lower')\n",
    "plt.show()"
   ]
  },
  {
   "cell_type": "code",
   "execution_count": 3,
   "metadata": {},
   "outputs": [
    {
     "name": "stdout",
     "output_type": "stream",
     "text": [
      "THE MOVIE WHICH HAS BEEN RATED BY A PARTICULAR USER IS MARKED A 1 IN THE MATRIX \n",
      "\n",
      " [[0 0 1 0 1 1 1 1 0 0]\n",
      " [0 0 1 0 0 0 0 0 0 0]\n",
      " [0 0 0 0 0 0 0 0 0 1]\n",
      " [0 1 1 0 0 1 0 1 1 0]\n",
      " [0 0 1 0 0 0 0 0 0 0]\n",
      " [0 0 0 0 0 0 0 1 0 0]\n",
      " [0 0 1 1 1 1 1 0 0 0]\n",
      " [1 0 1 0 0 1 0 1 1 0]\n",
      " [1 0 1 1 1 1 1 1 0 0]\n",
      " [0 0 0 0 0 0 0 0 0 1]\n",
      " [1 0 1 0 0 1 0 0 0 0]\n",
      " [1 0 1 1 0 1 0 1 0 0]\n",
      " [0 0 1 1 1 0 1 1 0 0]\n",
      " [0 0 1 1 1 0 0 1 0 0]\n",
      " [1 1 0 1 1 1 0 1 0 0]\n",
      " [0 0 0 0 0 0 0 0 0 1]\n",
      " [0 0 1 0 0 0 0 0 0 0]\n",
      " [0 0 0 1 1 0 0 0 0 0]\n",
      " [0 0 0 1 0 0 0 1 0 0]\n",
      " [0 0 0 0 1 0 0 0 0 0]]\n"
     ]
    }
   ],
   "source": [
    "did_rate = (ratings!=0)*1\n",
    "print('THE MOVIE WHICH HAS BEEN RATED BY A PARTICULAR USER IS MARKED A 1 IN THE MATRIX \\n\\n',did_rate)"
   ]
  },
  {
   "cell_type": "code",
   "execution_count": 4,
   "metadata": {},
   "outputs": [],
   "source": [
    "#sams_ratings = zeros((num_movies,1))"
   ]
  },
  {
   "cell_type": "code",
   "execution_count": 5,
   "metadata": {},
   "outputs": [],
   "source": [
    "#print(sams_ratings)"
   ]
  },
  {
   "cell_type": "code",
   "execution_count": 6,
   "metadata": {},
   "outputs": [],
   "source": [
    "# sams_ratings[0] = 8\n",
    "# sams_ratings[4] = 7\n",
    "# sams_ratings[7] = 3\n",
    "\n",
    "# print(sams_ratings)"
   ]
  },
  {
   "cell_type": "code",
   "execution_count": 7,
   "metadata": {},
   "outputs": [],
   "source": [
    "# ratings = append(sams_ratings,ratings,axis=1)\n",
    "# did_rate = append(((sams_ratings!=0)*1),did_rate,axis=1)\n",
    "\n",
    "# print(ratings)\n",
    "# print(did_rate)"
   ]
  },
  {
   "cell_type": "code",
   "execution_count": 8,
   "metadata": {},
   "outputs": [],
   "source": [
    "# a = [10,20,30]\n",
    "# avg = mean(a)\n",
    "# print(avg)"
   ]
  },
  {
   "cell_type": "code",
   "execution_count": 9,
   "metadata": {},
   "outputs": [],
   "source": [
    "# a = [10-avg,20-avg,30-avg]\n",
    "# print(a)"
   ]
  },
  {
   "cell_type": "code",
   "execution_count": 10,
   "metadata": {},
   "outputs": [],
   "source": [
    "def normalize_ratings(ratings,did_rate):\n",
    "    num_movies = ratings.shape[0] #0 means rows , 1 means columns\n",
    "    \n",
    "    ratings_mean = zeros(shape=(num_movies,1)) \n",
    "    ratings_norm = zeros(shape=ratings.shape)\n",
    "    \n",
    "    for i in range (num_movies):\n",
    "        idx = where(did_rate[i] ==1)[0]\n",
    "        ratings_mean[i] = mean(ratings[i,idx])\n",
    "        ratings_norm[i,idx] = ratings[i,idx] - ratings_mean[i]\n",
    "        \n",
    "    return ratings_norm,ratings_mean"
   ]
  },
  {
   "cell_type": "code",
   "execution_count": 11,
   "metadata": {},
   "outputs": [
    {
     "name": "stdout",
     "output_type": "stream",
     "text": [
      "[2]\n"
     ]
    }
   ],
   "source": [
    "#the columns which have a  rating are extracted out\n",
    "i=1\n",
    "idx=where(did_rate[i]==1)[0]\n",
    "print(idx)"
   ]
  },
  {
   "cell_type": "code",
   "execution_count": 12,
   "metadata": {},
   "outputs": [
    {
     "name": "stdout",
     "output_type": "stream",
     "text": [
      "[[0.]\n",
      " [3.]\n",
      " [0.]\n",
      " [0.]\n",
      " [0.]\n",
      " [0.]\n",
      " [0.]\n",
      " [0.]\n",
      " [0.]\n",
      " [0.]\n",
      " [0.]\n",
      " [0.]\n",
      " [0.]\n",
      " [0.]\n",
      " [0.]\n",
      " [0.]\n",
      " [0.]\n",
      " [0.]\n",
      " [0.]\n",
      " [0.]]\n"
     ]
    },
    {
     "data": {
      "image/png": "[encoded data removed]",
      "text/plain": [
       "<Figure size 432x288 with 1 Axes>"
      ]
     },
     "metadata": {},
     "output_type": "display_data"
    }
   ],
   "source": [
    "ratings_mean = zeros(shape=(num_movies,1))\n",
    "ratings_mean[i]=mean(ratings[i,idx])\n",
    "print(ratings_mean)\n",
    "plt.imshow(ratings_mean,aspect='auto',interpolation = None,origin='lower')\n",
    "plt.show()"
   ]
  },
  {
   "cell_type": "code",
   "execution_count": 13,
   "metadata": {},
   "outputs": [
    {
     "name": "stdout",
     "output_type": "stream",
     "text": [
      "[[0. 0. 0. 0. 0. 0. 0. 0. 0. 0.]\n",
      " [0. 0. 0. 0. 0. 0. 0. 0. 0. 0.]\n",
      " [0. 0. 0. 0. 0. 0. 0. 0. 0. 0.]\n",
      " [0. 0. 0. 0. 0. 0. 0. 0. 0. 0.]\n",
      " [0. 0. 0. 0. 0. 0. 0. 0. 0. 0.]\n",
      " [0. 0. 0. 0. 0. 0. 0. 0. 0. 0.]\n",
      " [0. 0. 0. 0. 0. 0. 0. 0. 0. 0.]\n",
      " [0. 0. 0. 0. 0. 0. 0. 0. 0. 0.]\n",
      " [0. 0. 0. 0. 0. 0. 0. 0. 0. 0.]\n",
      " [0. 0. 0. 0. 0. 0. 0. 0. 0. 0.]\n",
      " [0. 0. 0. 0. 0. 0. 0. 0. 0. 0.]\n",
      " [0. 0. 0. 0. 0. 0. 0. 0. 0. 0.]\n",
      " [0. 0. 0. 0. 0. 0. 0. 0. 0. 0.]\n",
      " [0. 0. 0. 0. 0. 0. 0. 0. 0. 0.]\n",
      " [0. 0. 0. 0. 0. 0. 0. 0. 0. 0.]\n",
      " [0. 0. 0. 0. 0. 0. 0. 0. 0. 0.]\n",
      " [0. 0. 0. 0. 0. 0. 0. 0. 0. 0.]\n",
      " [0. 0. 0. 0. 0. 0. 0. 0. 0. 0.]\n",
      " [0. 0. 0. 0. 0. 0. 0. 0. 0. 0.]\n",
      " [0. 0. 0. 0. 0. 0. 0. 0. 0. 0.]]\n"
     ]
    },
    {
     "data": {
      "image/png": "[encoded data removed]",
      "text/plain": [
       "<Figure size 432x288 with 1 Axes>"
      ]
     },
     "metadata": {},
     "output_type": "display_data"
    }
   ],
   "source": [
    "ratings_norm = zeros(shape=ratings.shape)\n",
    "ratings_norm[i,idx] = ratings[i,idx]-ratings_mean[i]\n",
    "print(ratings_norm)\n",
    "plt.imshow(ratings_norm,aspect='auto',interpolation = None,origin='lower')\n",
    "plt.show()"
   ]
  },
  {
   "cell_type": "code",
   "execution_count": 14,
   "metadata": {},
   "outputs": [
    {
     "name": "stdout",
     "output_type": "stream",
     "text": [
      "MEAN_NORMALIZED_RATINGS \n",
      "\n",
      " [[ 0.          0.         -0.6         0.         -2.6         1.4\n",
      "   0.4         1.4         0.          0.        ]\n",
      " [ 0.          0.          0.          0.          0.          0.\n",
      "   0.          0.          0.          0.        ]\n",
      " [ 0.          0.          0.          0.          0.          0.\n",
      "   0.          0.          0.          0.        ]\n",
      " [ 0.          0.6         0.6         0.          0.          0.6\n",
      "   0.         -1.4        -0.4         0.        ]\n",
      " [ 0.          0.          0.          0.          0.          0.\n",
      "   0.          0.          0.          0.        ]\n",
      " [ 0.          0.          0.          0.          0.          0.\n",
      "   0.          0.          0.          0.        ]\n",
      " [ 0.          0.         -1.4         1.6        -2.4         1.6\n",
      "   0.6         0.          0.          0.        ]\n",
      " [-0.6         0.         -0.6         0.          0.          0.4\n",
      "   0.          0.4         0.4         0.        ]\n",
      " [ 0.85714286  0.         -1.14285714 -0.14285714 -0.14285714  0.85714286\n",
      "  -1.14285714  0.85714286  0.          0.        ]\n",
      " [ 0.          0.          0.          0.          0.          0.\n",
      "   0.          0.          0.          0.        ]\n",
      " [-0.66666667  0.         -1.66666667  0.          0.          2.33333333\n",
      "   0.          0.          0.          0.        ]\n",
      " [-2.4         0.          0.6         0.6         0.          0.6\n",
      "   0.          0.6         0.          0.        ]\n",
      " [ 0.          0.          1.4         0.4        -2.6         0.\n",
      "  -0.6         1.4         0.          0.        ]\n",
      " [ 0.          0.          0.         -1.          0.          0.\n",
      "   0.          1.          0.          0.        ]\n",
      " [ 0.5         0.5         0.         -0.5        -0.5         0.5\n",
      "   0.         -0.5         0.          0.        ]\n",
      " [ 0.          0.          0.          0.          0.          0.\n",
      "   0.          0.          0.          0.        ]\n",
      " [ 0.          0.          0.          0.          0.          0.\n",
      "   0.          0.          0.          0.        ]\n",
      " [ 0.          0.          0.          1.         -1.          0.\n",
      "   0.          0.          0.          0.        ]\n",
      " [ 0.          0.          0.          1.          0.          0.\n",
      "   0.         -1.          0.          0.        ]\n",
      " [ 0.          0.          0.          0.          0.          0.\n",
      "   0.          0.          0.          0.        ]]\n"
     ]
    },
    {
     "data": {
      "image/png": "[encoded data removed]",
      "text/plain": [
       "<Figure size 432x288 with 1 Axes>"
      ]
     },
     "metadata": {},
     "output_type": "display_data"
    }
   ],
   "source": [
    "ratings,ratings_mean = normalize_ratings(ratings,did_rate)\n",
    "print('MEAN_NORMALIZED_RATINGS \\n\\n',ratings)\n",
    "plt.imshow(ratings,aspect='auto',interpolation = None,origin='lower')\n",
    "plt.show()"
   ]
  },
  {
   "cell_type": "code",
   "execution_count": 15,
   "metadata": {
    "scrolled": false
   },
   "outputs": [
    {
     "name": "stdout",
     "output_type": "stream",
     "text": [
      "MEAN_RATINGS\n",
      "\n",
      " [[3.6       ]\n",
      " [3.        ]\n",
      " [4.        ]\n",
      " [4.4       ]\n",
      " [1.        ]\n",
      " [5.        ]\n",
      " [3.4       ]\n",
      " [4.6       ]\n",
      " [4.14285714]\n",
      " [4.        ]\n",
      " [2.66666667]\n",
      " [4.4       ]\n",
      " [3.6       ]\n",
      " [4.        ]\n",
      " [4.5       ]\n",
      " [4.        ]\n",
      " [1.        ]\n",
      " [2.        ]\n",
      " [4.        ]\n",
      " [3.        ]]\n"
     ]
    },
    {
     "data": {
      "image/png": "[encoded data removed]",
      "text/plain": [
       "<Figure size 432x288 with 1 Axes>"
      ]
     },
     "metadata": {},
     "output_type": "display_data"
    }
   ],
   "source": [
    "print('MEAN_RATINGS\\n\\n',ratings_mean)\n",
    "plt.imshow(ratings_mean,aspect='auto',interpolation = None,origin='lower')\n",
    "plt.show()"
   ]
  },
  {
   "cell_type": "code",
   "execution_count": 16,
   "metadata": {},
   "outputs": [],
   "source": [
    "num_users = ratings.shape[1]\n",
    "num_features =3\n",
    "\n",
    "movie_features = random.uniform(low=-1.0,high=1.0,size=(num_movies,num_features))   #random.randn(num_movies,num_features)\n",
    "user_prefs =  random.uniform(low=-1.0,high=1.0,size=(num_users,num_features))       #random.randn(num_users,num_features)\n",
    "initial_X_and_theta = r_[movie_features.T.flatten(),user_prefs.T.flatten()]"
   ]
  },
  {
   "cell_type": "code",
   "execution_count": 17,
   "metadata": {},
   "outputs": [
    {
     "name": "stdout",
     "output_type": "stream",
     "text": [
      "MOVIE_FEATURES_X \n",
      "\n",
      " [[-0.87179185  0.42011776 -0.47237219]\n",
      " [-0.82045913 -0.87701648  0.19291235]\n",
      " [-0.64077368  0.62326521 -0.51480604]\n",
      " [ 0.67756563  0.82454562 -0.05024445]\n",
      " [ 0.99620265 -0.99487922  0.1511936 ]\n",
      " [-0.47659196  0.85880286 -0.15243254]\n",
      " [-0.32246665 -0.44312342 -0.6935442 ]\n",
      " [ 0.04620027 -0.26744406 -0.89751887]\n",
      " [-0.15079994 -0.27314949  0.04676185]\n",
      " [ 0.16667648  0.99070959 -0.6164756 ]\n",
      " [ 0.37520763  0.64521464  0.99421231]\n",
      " [-0.80629068  0.7624209   0.22406606]\n",
      " [-0.83912991  0.95172734  0.66431044]\n",
      " [-0.37009538  0.55497374 -0.53036651]\n",
      " [-0.84071335  0.86921959  0.8970016 ]\n",
      " [-0.39852256 -0.57018158 -0.03122122]\n",
      " [-0.42104626  0.11833891 -0.7139274 ]\n",
      " [ 0.19684969 -0.14545586  0.42632719]\n",
      " [-0.12862411 -0.23855059  0.93713515]\n",
      " [-0.2817676  -0.08981372  0.50243063]]\n"
     ]
    },
    {
     "data": {
      "image/png": "[encoded data removed]",
      "text/plain": [
       "<Figure size 432x288 with 1 Axes>"
      ]
     },
     "metadata": {},
     "output_type": "display_data"
    },
    {
     "name": "stdout",
     "output_type": "stream",
     "text": [
      "\n",
      "USER_FEATURES_THETA \n",
      "\n",
      " [[ 9.73811371e-01  2.63401908e-01  2.97137814e-01]\n",
      " [ 6.40050997e-01 -9.72449377e-01  6.89701880e-01]\n",
      " [ 8.97501228e-01  6.93631094e-04  5.07546724e-01]\n",
      " [-3.62930597e-01 -3.78521925e-01 -7.92423744e-01]\n",
      " [ 6.41829763e-01 -6.53757133e-01 -7.16814685e-02]\n",
      " [-1.08396159e-02  8.67734754e-01 -6.20424590e-02]\n",
      " [ 6.22267296e-01 -5.94332906e-01  6.14453457e-01]\n",
      " [-9.73886109e-01  1.31212790e-01  7.45933281e-01]\n",
      " [-8.78534298e-01 -1.20590848e-01 -7.52738657e-01]\n",
      " [-1.84877824e-01  2.87969261e-01 -9.41226012e-01]]\n"
     ]
    },
    {
     "data": {
      "image/png": "[encoded data removed]",
      "text/plain": [
       "<Figure size 432x288 with 1 Axes>"
      ]
     },
     "metadata": {},
     "output_type": "display_data"
    },
    {
     "name": "stdout",
     "output_type": "stream",
     "text": [
      "\n",
      "INITIAL MOVIE_FEATURES_X AND USER_FEATURES_THETA \n",
      "\n",
      " [-8.71791853e-01 -8.20459131e-01 -6.40773685e-01  6.77565626e-01\n",
      "  9.96202651e-01 -4.76591960e-01 -3.22466654e-01  4.62002662e-02\n",
      " -1.50799939e-01  1.66676478e-01  3.75207631e-01 -8.06290679e-01\n",
      " -8.39129910e-01 -3.70095381e-01 -8.40713348e-01 -3.98522558e-01\n",
      " -4.21046258e-01  1.96849695e-01 -1.28624111e-01 -2.81767598e-01\n",
      "  4.20117758e-01 -8.77016481e-01  6.23265208e-01  8.24545619e-01\n",
      " -9.94879221e-01  8.58802863e-01 -4.43123420e-01 -2.67444057e-01\n",
      " -2.73149490e-01  9.90709588e-01  6.45214643e-01  7.62420901e-01\n",
      "  9.51727335e-01  5.54973737e-01  8.69219587e-01 -5.70181578e-01\n",
      "  1.18338914e-01 -1.45455864e-01 -2.38550593e-01 -8.98137181e-02\n",
      " -4.72372185e-01  1.92912353e-01 -5.14806044e-01 -5.02444506e-02\n",
      "  1.51193595e-01 -1.52432544e-01 -6.93544198e-01 -8.97518869e-01\n",
      "  4.67618464e-02 -6.16475600e-01  9.94212307e-01  2.24066063e-01\n",
      "  6.64310444e-01 -5.30366509e-01  8.97001602e-01 -3.12212222e-02\n",
      " -7.13927400e-01  4.26327186e-01  9.37135146e-01  5.02430630e-01\n",
      "  9.73811371e-01  6.40050997e-01  8.97501228e-01 -3.62930597e-01\n",
      "  6.41829763e-01 -1.08396159e-02  6.22267296e-01 -9.73886109e-01\n",
      " -8.78534298e-01 -1.84877824e-01  2.63401908e-01 -9.72449377e-01\n",
      "  6.93631094e-04 -3.78521925e-01 -6.53757133e-01  8.67734754e-01\n",
      " -5.94332906e-01  1.31212790e-01 -1.20590848e-01  2.87969261e-01\n",
      "  2.97137814e-01  6.89701880e-01  5.07546724e-01 -7.92423744e-01\n",
      " -7.16814685e-02 -6.20424590e-02  6.14453457e-01  7.45933281e-01\n",
      " -7.52738657e-01 -9.41226012e-01]\n"
     ]
    }
   ],
   "source": [
    "print('MOVIE_FEATURES_X \\n\\n',movie_features)\n",
    "plt.imshow(movie_features,aspect='auto',interpolation = None,origin='lower')\n",
    "plt.show()\n",
    "\n",
    "print('\\nUSER_FEATURES_THETA \\n\\n',user_prefs)\n",
    "plt.imshow(user_prefs,aspect='auto',interpolation = None,origin='lower')\n",
    "plt.show()\n",
    "\n",
    "print('\\nINITIAL MOVIE_FEATURES_X AND USER_FEATURES_THETA \\n\\n',initial_X_and_theta)"
   ]
  },
  {
   "cell_type": "code",
   "execution_count": 18,
   "metadata": {},
   "outputs": [
    {
     "data": {
      "text/plain": [
       "(90,)"
      ]
     },
     "execution_count": 18,
     "metadata": {},
     "output_type": "execute_result"
    }
   ],
   "source": [
    "initial_X_and_theta.shape"
   ]
  },
  {
   "cell_type": "code",
   "execution_count": 19,
   "metadata": {},
   "outputs": [],
   "source": [
    "def unroll_params(X_and_theta,num_users,num_movies,num_features):\n",
    "    first_30 = X_and_theta[:num_movies*num_features]\n",
    "    X = first_30.reshape((num_features,num_movies)).transpose()\n",
    "    last_21 = X_and_theta[num_movies*num_features:]\n",
    "    theta = last_21.reshape(num_features,num_users).transpose()\n",
    "    return X,theta"
   ]
  },
  {
   "cell_type": "code",
   "execution_count": 20,
   "metadata": {},
   "outputs": [],
   "source": [
    "def calculate_gradient(X_and_theta,ratings,did_rate,num_users,num_movies,num_features,reg_param):\n",
    "    X,theta = unroll_params(X_and_theta,num_users,num_movies,num_features)\n",
    "    difference = X.dot(theta.T)*did_rate - ratings\n",
    "    X_grad = difference.dot(theta)+reg_param *X\n",
    "    theta_grad = difference.T.dot(X)+reg_param*theta\n",
    "    \n",
    "    return r_[X_grad.T.flatten(),theta_grad.T.flatten()]"
   ]
  },
  {
   "cell_type": "code",
   "execution_count": 21,
   "metadata": {},
   "outputs": [],
   "source": [
    "def calculate_cost(X_and_theta,ratings,did_rate,num_users,num_movies,num_features,reg_param):\n",
    "    X,theta = unroll_params(X_and_theta,num_users,num_movies,num_features)\n",
    "    cost = sum((X.dot(theta.T)*did_rate-ratings)**2)/2\n",
    "    regularization = (reg_param/2)*(sum(theta**2)+sum(X**2))\n",
    "    return cost+regularization"
   ]
  },
  {
   "cell_type": "code",
   "execution_count": 22,
   "metadata": {},
   "outputs": [
    {
     "name": "stdout",
     "output_type": "stream",
     "text": [
      "Optimization terminated successfully.\n",
      "         Current function value: 34.111905\n",
      "         Iterations: 12\n",
      "         Function evaluations: 24\n",
      "         Gradient evaluations: 24\n"
     ]
    }
   ],
   "source": [
    "from scipy import optimize\n",
    "reg_param = 10\n",
    "minimized_cost_and_optimal_params = optimize.fmin_cg(calculate_cost,fprime=calculate_gradient,x0=initial_X_and_theta,\n",
    "                                                    args=(ratings,did_rate,num_users,num_movies,num_features,reg_param),\n",
    "                                                     maxiter=100,disp=True,full_output=True)"
   ]
  },
  {
   "cell_type": "code",
   "execution_count": 23,
   "metadata": {},
   "outputs": [],
   "source": [
    "cost,optimal_movie_features_and_user_prefs = minimized_cost_and_optimal_params[1],minimized_cost_and_optimal_params[0]"
   ]
  },
  {
   "cell_type": "code",
   "execution_count": 24,
   "metadata": {},
   "outputs": [],
   "source": [
    "featurs,prefs = unroll_params(optimal_movie_features_and_user_prefs,num_users,num_movies,num_features)"
   ]
  },
  {
   "cell_type": "code",
   "execution_count": 25,
   "metadata": {},
   "outputs": [
    {
     "data": {
      "image/png": "[encoded data removed]",
      "text/plain": [
       "<Figure size 432x288 with 1 Axes>"
      ]
     },
     "metadata": {},
     "output_type": "display_data"
    }
   ],
   "source": [
    "# PREDICTING RATINGS\n",
    "new_pred = featurs.dot(prefs.T)+ratings_mean\n",
    "plt.imshow(user_prefs,aspect='auto',interpolation = None,origin='lower')\n",
    "plt.show()"
   ]
  },
  {
   "cell_type": "code",
   "execution_count": 26,
   "metadata": {},
   "outputs": [
    {
     "name": "stdout",
     "output_type": "stream",
     "text": [
      "RATINGS FOR SAM ARE \n",
      "\n",
      " [[3.6       ]\n",
      " [3.        ]\n",
      " [4.        ]\n",
      " [4.4       ]\n",
      " [1.        ]\n",
      " [5.        ]\n",
      " [3.4       ]\n",
      " [4.6       ]\n",
      " [4.14285714]\n",
      " [4.        ]\n",
      " [2.66666667]\n",
      " [4.4       ]\n",
      " [3.6       ]\n",
      " [4.        ]\n",
      " [4.5       ]\n",
      " [4.        ]\n",
      " [1.        ]\n",
      " [2.        ]\n",
      " [4.        ]\n",
      " [3.        ]]\n"
     ]
    },
    {
     "data": {
      "image/png": "[encoded data removed]",
      "text/plain": [
       "<Figure size 432x288 with 1 Axes>"
      ]
     },
     "metadata": {},
     "output_type": "display_data"
    }
   ],
   "source": [
    "# PREDICTING RATINGS FOR A USER\n",
    "sam_ratings = new_pred[:,9:]\n",
    "sr = sam_ratings.flatten()\n",
    "for i in  range(len(sr)):\n",
    "    b=\"{0:.2f}\".format(sr[i])\n",
    "    sr[i]=b\n",
    "print('RATINGS FOR SAM ARE \\n\\n',sam_ratings)\n",
    "plt.imshow(sam_ratings,aspect='auto',interpolation = None,origin='lower')\n",
    "plt.show()"
   ]
  },
  {
   "cell_type": "code",
   "execution_count": 28,
   "metadata": {},
   "outputs": [],
   "source": [
    "movie_list = []\n",
    "\n",
    "with open('Movie_ids.rtf')as inputfile:\n",
    "    for line in inputfile:\n",
    "        li = line.strip().split('\\n')\n",
    "        movie_list.append(li)"
   ]
  },
  {
   "cell_type": "code",
   "execution_count": 29,
   "metadata": {},
   "outputs": [
    {
     "data": {
      "text/plain": [
       "['1 Wonder Woman',\n",
       " '2 Me Befor You (Romance)',\n",
       " '3 Criminal (Action)',\n",
       " '4 Forever My Girl (Romance)',\n",
       " '5 Deadpool 2(Comedy)',\n",
       " '6 Spider-Man Homecoming',\n",
       " '7 Sausage Party (comedy)',\n",
       " '8 The infiltrator(Action)',\n",
       " '9 Love Simon (Romance)',\n",
       " '10 Transformers The Last Knight',\n",
       " '11 Blockers (Comedy)',\n",
       " '12 21 JumpStreet(Comedy)',\n",
       " '13 Fifty Shades freed (Romance)',\n",
       " '14 Game Night (Comedy)',\n",
       " '15 bad Moms (Comedy)',\n",
       " '16 Avengers- Infinity Wars',\n",
       " '17 The perfect match (Romance)',\n",
       " '18 Fifty Shades Darker (Romance)',\n",
       " '19 Overboard (Comedy)',\n",
       " '20 The Fate of the furious']"
      ]
     },
     "execution_count": 29,
     "metadata": {},
     "output_type": "execute_result"
    }
   ],
   "source": [
    "movie_list = list(array(movie_list).flatten())\n",
    "movie_list"
   ]
  },
  {
   "cell_type": "code",
   "execution_count": 30,
   "metadata": {},
   "outputs": [
    {
     "name": "stdout",
     "output_type": "stream",
     "text": [
      "Top recommendations for you : \n",
      "\n",
      "Recommended rating  5.0  for movie  ['6 Spider-Man Homecoming']\n",
      "Recommended rating  4.6  for movie  ['8 The infiltrator(Action)']\n",
      "Recommended rating  4.5  for movie  ['15 bad Moms (Comedy)']\n",
      "Recommended rating  4.4  for movie  ['4 Forever My Girl (Romance)', '12 21 JumpStreet(Comedy)']\n",
      "Recommended rating  4.14  for movie  ['9 Love Simon (Romance)']\n",
      "Recommended rating  4.0  for movie  ['3 Criminal (Action)', '10 Transformers The Last Knight', '14 Game Night (Comedy)', '16 Avengers- Infinity Wars', '19 Overboard (Comedy)']\n",
      "Recommended rating  3.6  for movie  ['1 Wonder Woman', '13 Fifty Shades freed (Romance)']\n",
      "Recommended rating  3.4  for movie  ['7 Sausage Party (comedy)']\n",
      "Recommended rating  3.0  for movie  ['2 Me Befor You (Romance)', '20 The Fate of the furious']\n",
      "Recommended rating  2.67  for movie  ['11 Blockers (Comedy)']\n",
      "Recommended rating  2.0  for movie  ['18 Fifty Shades Darker (Romance)']\n",
      "Recommended rating  1.0  for movie  ['5 Deadpool 2(Comedy)', '17 The perfect match (Romance)']\n"
     ]
    }
   ],
   "source": [
    "rats = list(sr.flatten())\n",
    "\n",
    "dic = {}\n",
    "check=[] # to make sure that movie with same ratings are appended at the end of the \"value list\" for that \"particular rating key\"\n",
    "for i in range(0,len(rats)):\n",
    "    if rats[i] in check:\n",
    "        dic[rats[i]].append(movie_list[i])\n",
    "        check.append(rats[i])\n",
    "    else:\n",
    "        dic[rats[i]] = [movie_list[i]]\n",
    "        check.append(rats[i])\n",
    "    \n",
    "keylist = dic.keys()       #These are used to\n",
    "keylist = sorted(keylist)  #sort the keys in \n",
    "keylist = keylist[::-1]    #order of decreasing ratings\n",
    "\n",
    "print('Top recommendations for you : \\n')\n",
    "for k in keylist:\n",
    "    print('Recommended rating ',k,' for movie ',dic[k])"
   ]
  }
 ],
 "metadata": {
  "kernelspec": {
   "display_name": "Python 3",
   "language": "python",
   "name": "python3"
  },
  "language_info": {
   "codemirror_mode": {
    "name": "ipython",
    "version": 3
   },
   "file_extension": ".py",
   "mimetype": "text/x-python",
   "name": "python",
   "nbconvert_exporter": "python",
   "pygments_lexer": "ipython3",
   "version": "3.6.0"
  }
 },
 "nbformat": 4,
 "nbformat_minor": 2
}
