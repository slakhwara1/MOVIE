{
 "cells": [
  {
   "cell_type": "code",
   "execution_count": 1,
   "metadata": {},
   "outputs": [
    {
     "name": "stdout",
     "output_type": "stream",
     "text": [
      "[[1 2 3]\n",
      " [1 2 3]]\n"
     ]
    }
   ],
   "source": [
    "from numpy import *\n",
    "data = array([[1,2,3],[1,2,3]])\n",
    "print(data)"
   ]
  },
  {
   "cell_type": "code",
   "execution_count": 3,
   "metadata": {},
   "outputs": [
    {
     "data": {
      "text/plain": [
       "(2, 3)"
      ]
     },
     "execution_count": 3,
     "metadata": {},
     "output_type": "execute_result"
    }
   ],
   "source": [
    "data.shape"
   ]
  },
  {
   "cell_type": "code",
   "execution_count": 4,
   "metadata": {},
   "outputs": [
    {
     "name": "stdout",
     "output_type": "stream",
     "text": [
      "[[0. 0.]]\n"
     ]
    }
   ],
   "source": [
    "zeros_matrix = zeros((1,2))\n",
    "print(zeros_matrix)"
   ]
  },
  {
   "cell_type": "code",
   "execution_count": 5,
   "metadata": {},
   "outputs": [
    {
     "name": "stdout",
     "output_type": "stream",
     "text": [
      "[[1. 1.]]\n"
     ]
    }
   ],
   "source": [
    "ones_matrix = ones((1,2))\n",
    "print(ones_matrix)"
   ]
  },
  {
   "cell_type": "code",
   "execution_count": 6,
   "metadata": {},
   "outputs": [
    {
     "name": "stdout",
     "output_type": "stream",
     "text": [
      "[[5 5 1 9 1]\n",
      " [6 5 4 7 5]\n",
      " [4 7 8 4 9]\n",
      " [3 6 1 0 8]\n",
      " [8 7 5 6 6]\n",
      " [6 1 9 4 3]\n",
      " [3 0 0 3 3]\n",
      " [5 7 4 8 3]\n",
      " [2 9 8 0 7]\n",
      " [5 0 1 1 3]]\n"
     ]
    }
   ],
   "source": [
    "rand_matrix = random.randint(10,size=(10,5))\n",
    "print(rand_matrix)"
   ]
  },
  {
   "cell_type": "code",
   "execution_count": 8,
   "metadata": {},
   "outputs": [
    {
     "name": "stdout",
     "output_type": "stream",
     "text": [
      "[[4]\n",
      " [9]\n",
      " [3]\n",
      " [5]\n",
      " [4]\n",
      " [9]\n",
      " [7]\n",
      " [7]\n",
      " [8]\n",
      " [0]]\n"
     ]
    }
   ],
   "source": [
    "col_vector = random.randint(10,size=(10,1))\n",
    "print(col_vector)"
   ]
  },
  {
   "cell_type": "code",
   "execution_count": 10,
   "metadata": {},
   "outputs": [
    {
     "name": "stdout",
     "output_type": "stream",
     "text": [
      "[4]\n"
     ]
    }
   ],
   "source": [
    "print(col_vector[0])"
   ]
  },
  {
   "cell_type": "code",
   "execution_count": 11,
   "metadata": {},
   "outputs": [
    {
     "name": "stdout",
     "output_type": "stream",
     "text": [
      "[[1100]\n",
      " [   9]\n",
      " [   3]\n",
      " [   5]\n",
      " [   4]\n",
      " [   9]\n",
      " [   7]\n",
      " [   7]\n",
      " [   8]\n",
      " [   0]]\n"
     ]
    }
   ],
   "source": [
    "col_vector[0] = 1100\n",
    "print(col_vector)"
   ]
  },
  {
   "cell_type": "code",
   "execution_count": 13,
   "metadata": {},
   "outputs": [
    {
     "name": "stdout",
     "output_type": "stream",
     "text": [
      "5\n"
     ]
    }
   ],
   "source": [
    "print(rand_matrix[0,0])"
   ]
  },
  {
   "cell_type": "code",
   "execution_count": 17,
   "metadata": {},
   "outputs": [
    {
     "name": "stdout",
     "output_type": "stream",
     "text": [
      "[[5]\n",
      " [6]\n",
      " [4]\n",
      " [3]\n",
      " [8]\n",
      " [6]\n",
      " [3]\n",
      " [5]\n",
      " [2]\n",
      " [5]]\n"
     ]
    }
   ],
   "source": [
    "print (rand_matrix[:,0:1])"
   ]
  },
  {
   "cell_type": "code",
   "execution_count": 18,
   "metadata": {},
   "outputs": [
    {
     "name": "stdout",
     "output_type": "stream",
     "text": [
      "[[5 5 1 9 1]]\n"
     ]
    }
   ],
   "source": [
    "print(rand_matrix[0:1,:])"
   ]
  },
  {
   "cell_type": "code",
   "execution_count": 20,
   "metadata": {},
   "outputs": [
    {
     "name": "stdout",
     "output_type": "stream",
     "text": [
      "[[5 1 9]]\n"
     ]
    }
   ],
   "source": [
    "print(rand_matrix[0:1,1:4])"
   ]
  },
  {
   "cell_type": "code",
   "execution_count": 21,
   "metadata": {},
   "outputs": [
    {
     "name": "stdout",
     "output_type": "stream",
     "text": [
      "[5 5 1 9 1 6 5 4 7 5 4 7 8 4 9 3 6 1 0 8 8 7 5 6 6 6 1 9 4 3 3 0 0 3 3 5 7\n",
      " 4 8 3 2 9 8 0 7 5 0 1 1 3]\n"
     ]
    }
   ],
   "source": [
    "flattenned = rand_matrix.flatten()\n",
    "print(flattenned)"
   ]
  },
  {
   "cell_type": "code",
   "execution_count": 24,
   "metadata": {},
   "outputs": [
    {
     "name": "stdout",
     "output_type": "stream",
     "text": [
      "[[ 60 103]\n",
      " [ 82 127]\n",
      " [113 144]\n",
      " [ 82  46]\n",
      " [105 134]\n",
      " [ 53 132]\n",
      " [ 21  45]\n",
      " [ 87 126]\n",
      " [111  96]\n",
      " [ 25  39]]\n"
     ]
    }
   ],
   "source": [
    "rand_matrix_2 = random.randint(10,size=(5,2))\n",
    "dot_product = rand_matrix.dot(rand_matrix_2)\n",
    "print(dot_product)"
   ]
  },
  {
   "cell_type": "code",
   "execution_count": null,
   "metadata": {},
   "outputs": [],
   "source": []
  }
 ],
 "metadata": {
  "kernelspec": {
   "display_name": "Python 3",
   "language": "python",
   "name": "python3"
  },
  "language_info": {
   "codemirror_mode": {
    "name": "ipython",
    "version": 3
   },
   "file_extension": ".py",
   "mimetype": "text/x-python",
   "name": "python",
   "nbconvert_exporter": "python",
   "pygments_lexer": "ipython3",
   "version": "3.6.4"
  }
 },
 "nbformat": 4,
 "nbformat_minor": 2
}
